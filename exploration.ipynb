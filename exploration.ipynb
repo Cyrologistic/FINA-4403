{
 "cells": [
  {
   "cell_type": "code",
   "execution_count": 2,
   "metadata": {},
   "outputs": [],
   "source": [
    "import pandas as pd\n",
    "import numpy as np"
   ]
  },
  {
   "cell_type": "code",
   "execution_count": 3,
   "metadata": {},
   "outputs": [
    {
     "name": "stderr",
     "output_type": "stream",
     "text": [
      "/var/folders/ls/6b52gp6s5jx1t8rz93h_291m0000gn/T/ipykernel_78399/1858919826.py:64: FutureWarning: DataFrame.fillna with 'method' is deprecated and will raise in a future version. Use obj.ffill() or obj.bfill() instead.\n",
      "  exchange_rate = exchange_rate.fillna(method='ffill')\n"
     ]
    }
   ],
   "source": [
    "# Standardize data format\n",
    "\n",
    "arrival_departure = pd.read_csv('japan_arrival_departure.csv')[['Year', 'Japanese Overseas Travelers', 'Visitor Arrivals to Japan']]\n",
    "arrival_departure['Japanese Overseas Travelers'] = arrival_departure['Japanese Overseas Travelers'].apply(lambda x: x.replace(',','')).astype(int)\n",
    "arrival_departure['Visitor Arrivals to Japan'] = arrival_departure['Visitor Arrivals to Japan'].apply(lambda x: x.replace(',','')).astype(int)\n",
    "arrival_departure['Year'] = pd.to_datetime(arrival_departure['Year'], format='%Y') - pd.Timedelta(days=1)\n",
    "arrival_departure = arrival_departure[(arrival_departure['Year'].dt.year >= 2018) & (arrival_departure['Year'].dt.year < 2024)]\n",
    "#arrival_departure['Year'] = arrival_departure['Year'].dt.to_period('M')\n",
    "arrival_departure = arrival_departure.set_index('Year').resample('D').bfill().iloc[1:,:]\n",
    "\n",
    "gdp = pd.read_csv('JPN_GDP.csv')\n",
    "gdp['DATE'] = pd.to_datetime(gdp['DATE'])\n",
    "gdp = gdp[gdp['DATE'].dt.year >= 2019]\n",
    "#gdp['DATE'] = gdp['DATE'].dt.to_period('M')\n",
    "gdp = gdp.set_index('DATE').resample('D').bfill()\n",
    "\n",
    "avg_stay = pd.read_csv('japan_visitor_avg_stay.csv')\n",
    "avg_stay['Year'] = pd.to_datetime(avg_stay['Year'].astype(int)+1, format='%Y') - pd.Timedelta(days=1)\n",
    "avg_stay = avg_stay[(avg_stay['Year'].dt.year >= 2018) & (avg_stay['Country/Area'] == 'Total')]\n",
    "avg_stay.drop(columns=['Country/Area'], inplace=True)\n",
    "avg_stay.loc[len(avg_stay)] = pd.Series({'Year': pd.to_datetime('2023-12-31'), 'Average length of stay': avg_stay['Average length of stay'].median()})\n",
    "avg_stay.reset_index(drop=True, inplace=True)\n",
    "#avg_stay['Year'] = avg_stay['Year'].dt.to_period('M')\n",
    "avg_stay = avg_stay.set_index('Year').resample('D').bfill().iloc[1:,:]\n",
    "\n",
    "expenditure = pd.read_csv('expenditure.csv')\n",
    "expenditure['Year'] = expenditure['Year'].astype(int)+1\n",
    "expenditure['Year'] = pd.to_datetime(expenditure['Year'], format='%Y') - pd.Timedelta(days=1)\n",
    "#expenditure['Year'] = expenditure['Year'].dt.to_period('M')\n",
    "expenditure = expenditure.set_index('Year').resample('D').bfill().iloc[1:,:]\n",
    "\n",
    "cast = {'Jan': '01',\n",
    "        'Feb': '02',\n",
    "        'Mar': '03',\n",
    "        'Apr': '04',\n",
    "        'May': '05',\n",
    "        'Jun': '06',\n",
    "        'Jul': '07',\n",
    "        'Aug': '08',\n",
    "        'Sep': '09',\n",
    "        'Oct': '10',\n",
    "        'Nov': '11',\n",
    "        'Dec': '12'}\n",
    "\n",
    "def parsing(date):\n",
    "    date = date.split('(')[0]\n",
    "    month_day, year = date.split(',')\n",
    "    month, day = month_day.split()\n",
    "    return f'{year.strip()}-{cast[month]}-{day}'\n",
    "\n",
    "cpi = pd.read_csv('cpi.csv')[['Date','Actual']]\n",
    "cpi['Date'] = pd.to_datetime(cpi['Date'].apply(parsing))\n",
    "cpi = cpi[(cpi['Date'].dt.year >= 2019) & (cpi['Date'].dt.year < 2024)]\n",
    "# Manually shifted 2019/01/17 to 2019/01/01\n",
    "# Manually shifted 2023/12/21 to 2023/12/31\n",
    "cpi = cpi.set_index('Date').resample('D').bfill()\n",
    "cpi['Actual'] = cpi['Actual'].apply(lambda x: float(x.replace('%',''))/100)\n",
    "\n",
    "exchange_rate = pd.read_csv('exchange_rate.csv')[['Date','Adj Close']]\n",
    "exchange_rate['Date'] = pd.to_datetime(exchange_rate['Date'])\n",
    "#exchange_rate = exchange_rate.groupby(pd.Grouper(key='Date', freq='M')).tail(1)\n",
    "#exchange_rate['Date'] = exchange_rate['Date'].dt.to_period('M')\n",
    "exchange_rate = exchange_rate.set_index('Date').resample('D').bfill().iloc[:-2,:]\n",
    "exchange_rate = exchange_rate.fillna(method='ffill')\n"
   ]
  },
  {
   "cell_type": "code",
   "execution_count": 4,
   "metadata": {},
   "outputs": [
    {
     "data": {
      "text/html": [
       "<div>\n",
       "<style scoped>\n",
       "    .dataframe tbody tr th:only-of-type {\n",
       "        vertical-align: middle;\n",
       "    }\n",
       "\n",
       "    .dataframe tbody tr th {\n",
       "        vertical-align: top;\n",
       "    }\n",
       "\n",
       "    .dataframe thead th {\n",
       "        text-align: right;\n",
       "    }\n",
       "</style>\n",
       "<table border=\"1\" class=\"dataframe\">\n",
       "  <thead>\n",
       "    <tr style=\"text-align: right;\">\n",
       "      <th></th>\n",
       "      <th>Departure</th>\n",
       "      <th>Arrival</th>\n",
       "      <th>GDP</th>\n",
       "      <th>Stay Length</th>\n",
       "      <th>Expenditure</th>\n",
       "      <th>Actual</th>\n",
       "      <th>USD/JPY</th>\n",
       "    </tr>\n",
       "  </thead>\n",
       "  <tbody>\n",
       "    <tr>\n",
       "      <th>2023-12-27</th>\n",
       "      <td>3037254.0</td>\n",
       "      <td>5476702.0</td>\n",
       "      <td>598963.1</td>\n",
       "      <td>7.24969</td>\n",
       "      <td>5.31</td>\n",
       "      <td>0.028</td>\n",
       "      <td>142.460999</td>\n",
       "    </tr>\n",
       "    <tr>\n",
       "      <th>2023-12-28</th>\n",
       "      <td>3037254.0</td>\n",
       "      <td>5476702.0</td>\n",
       "      <td>598963.1</td>\n",
       "      <td>7.24969</td>\n",
       "      <td>5.31</td>\n",
       "      <td>0.028</td>\n",
       "      <td>141.399002</td>\n",
       "    </tr>\n",
       "    <tr>\n",
       "      <th>2023-12-29</th>\n",
       "      <td>3037254.0</td>\n",
       "      <td>5476702.0</td>\n",
       "      <td>598963.1</td>\n",
       "      <td>7.24969</td>\n",
       "      <td>5.31</td>\n",
       "      <td>0.028</td>\n",
       "      <td>141.429993</td>\n",
       "    </tr>\n",
       "    <tr>\n",
       "      <th>2023-12-30</th>\n",
       "      <td>3037254.0</td>\n",
       "      <td>5476702.0</td>\n",
       "      <td>598963.1</td>\n",
       "      <td>7.24969</td>\n",
       "      <td>5.31</td>\n",
       "      <td>0.028</td>\n",
       "      <td>140.951996</td>\n",
       "    </tr>\n",
       "    <tr>\n",
       "      <th>2023-12-31</th>\n",
       "      <td>3037254.0</td>\n",
       "      <td>5476702.0</td>\n",
       "      <td>598963.1</td>\n",
       "      <td>7.24969</td>\n",
       "      <td>5.31</td>\n",
       "      <td>0.028</td>\n",
       "      <td>140.951996</td>\n",
       "    </tr>\n",
       "  </tbody>\n",
       "</table>\n",
       "</div>"
      ],
      "text/plain": [
       "            Departure    Arrival       GDP  Stay Length  Expenditure  Actual  \\\n",
       "2023-12-27  3037254.0  5476702.0  598963.1      7.24969         5.31   0.028   \n",
       "2023-12-28  3037254.0  5476702.0  598963.1      7.24969         5.31   0.028   \n",
       "2023-12-29  3037254.0  5476702.0  598963.1      7.24969         5.31   0.028   \n",
       "2023-12-30  3037254.0  5476702.0  598963.1      7.24969         5.31   0.028   \n",
       "2023-12-31  3037254.0  5476702.0  598963.1      7.24969         5.31   0.028   \n",
       "\n",
       "               USD/JPY  \n",
       "2023-12-27  142.460999  \n",
       "2023-12-28  141.399002  \n",
       "2023-12-29  141.429993  \n",
       "2023-12-30  140.951996  \n",
       "2023-12-31  140.951996  "
      ]
     },
     "execution_count": 4,
     "metadata": {},
     "output_type": "execute_result"
    }
   ],
   "source": [
    "data = pd.concat([arrival_departure, gdp, avg_stay, expenditure, cpi, exchange_rate], axis=1).iloc[:-1,:]\n",
    "data = data.rename(columns={'Japanese Overseas Travelers': 'Departure', 'Visitor Arrivals to Japan': 'Arrival', 'JPNNGDP': 'GDP', 'Average length of stay': 'Stay Length', 'Adj Close': 'USD/JPY'})\n",
    "data.tail()"
   ]
  },
  {
   "cell_type": "code",
   "execution_count": 5,
   "metadata": {},
   "outputs": [],
   "source": [
    "from sklearn.preprocessing import StandardScaler\n",
    "\n",
    "scaler = StandardScaler()\n",
    "cols = ['Departure', 'Arrival', 'GDP', 'Stay Length', 'Expenditure', 'Actual']\n",
    "data[cols] = scaler.fit_transform(data.drop(columns=['USD/JPY']))"
   ]
  },
  {
   "cell_type": "code",
   "execution_count": 6,
   "metadata": {},
   "outputs": [
    {
     "data": {
      "text/html": [
       "<div>\n",
       "<style scoped>\n",
       "    .dataframe tbody tr th:only-of-type {\n",
       "        vertical-align: middle;\n",
       "    }\n",
       "\n",
       "    .dataframe tbody tr th {\n",
       "        vertical-align: top;\n",
       "    }\n",
       "\n",
       "    .dataframe thead th {\n",
       "        text-align: right;\n",
       "    }\n",
       "</style>\n",
       "<table border=\"1\" class=\"dataframe\">\n",
       "  <thead>\n",
       "    <tr style=\"text-align: right;\">\n",
       "      <th></th>\n",
       "      <th>Departure</th>\n",
       "      <th>Arrival</th>\n",
       "      <th>GDP</th>\n",
       "      <th>Stay Length</th>\n",
       "      <th>Expenditure</th>\n",
       "      <th>Actual</th>\n",
       "      <th>USD/JPY</th>\n",
       "    </tr>\n",
       "  </thead>\n",
       "  <tbody>\n",
       "    <tr>\n",
       "      <th>2019-01-01</th>\n",
       "      <td>-0.211857</td>\n",
       "      <td>-0.410814</td>\n",
       "      <td>-0.198385</td>\n",
       "      <td>-0.661428</td>\n",
       "      <td>1.10062</td>\n",
       "      <td>-0.607077</td>\n",
       "      <td>109.629997</td>\n",
       "    </tr>\n",
       "    <tr>\n",
       "      <th>2019-01-02</th>\n",
       "      <td>-0.211857</td>\n",
       "      <td>-0.410814</td>\n",
       "      <td>-0.065684</td>\n",
       "      <td>-0.661428</td>\n",
       "      <td>1.10062</td>\n",
       "      <td>-0.673416</td>\n",
       "      <td>109.667999</td>\n",
       "    </tr>\n",
       "    <tr>\n",
       "      <th>2019-01-03</th>\n",
       "      <td>-0.211857</td>\n",
       "      <td>-0.410814</td>\n",
       "      <td>-0.065684</td>\n",
       "      <td>-0.661428</td>\n",
       "      <td>1.10062</td>\n",
       "      <td>-0.673416</td>\n",
       "      <td>107.441002</td>\n",
       "    </tr>\n",
       "    <tr>\n",
       "      <th>2019-01-04</th>\n",
       "      <td>-0.211857</td>\n",
       "      <td>-0.410814</td>\n",
       "      <td>-0.065684</td>\n",
       "      <td>-0.661428</td>\n",
       "      <td>1.10062</td>\n",
       "      <td>-0.673416</td>\n",
       "      <td>107.807999</td>\n",
       "    </tr>\n",
       "    <tr>\n",
       "      <th>2019-01-05</th>\n",
       "      <td>-0.211857</td>\n",
       "      <td>-0.410814</td>\n",
       "      <td>-0.065684</td>\n",
       "      <td>-0.661428</td>\n",
       "      <td>1.10062</td>\n",
       "      <td>-0.673416</td>\n",
       "      <td>108.522003</td>\n",
       "    </tr>\n",
       "  </tbody>\n",
       "</table>\n",
       "</div>"
      ],
      "text/plain": [
       "            Departure   Arrival       GDP  Stay Length  Expenditure    Actual  \\\n",
       "2019-01-01  -0.211857 -0.410814 -0.198385    -0.661428      1.10062 -0.607077   \n",
       "2019-01-02  -0.211857 -0.410814 -0.065684    -0.661428      1.10062 -0.673416   \n",
       "2019-01-03  -0.211857 -0.410814 -0.065684    -0.661428      1.10062 -0.673416   \n",
       "2019-01-04  -0.211857 -0.410814 -0.065684    -0.661428      1.10062 -0.673416   \n",
       "2019-01-05  -0.211857 -0.410814 -0.065684    -0.661428      1.10062 -0.673416   \n",
       "\n",
       "               USD/JPY  \n",
       "2019-01-01  109.629997  \n",
       "2019-01-02  109.667999  \n",
       "2019-01-03  107.441002  \n",
       "2019-01-04  107.807999  \n",
       "2019-01-05  108.522003  "
      ]
     },
     "execution_count": 6,
     "metadata": {},
     "output_type": "execute_result"
    }
   ],
   "source": [
    "data.head()"
   ]
  },
  {
   "cell_type": "markdown",
   "metadata": {},
   "source": [
    "**Analysis**"
   ]
  },
  {
   "cell_type": "code",
   "execution_count": 7,
   "metadata": {},
   "outputs": [
    {
     "data": {
      "image/png": "[encoded data removed]",
      "text/plain": [
       "<Figure size 1000x800 with 2 Axes>"
      ]
     },
     "metadata": {},
     "output_type": "display_data"
    }
   ],
   "source": [
    "import matplotlib.pyplot as plt\n",
    "import seaborn as sns\n",
    "\n",
    "# Correlation matrix, for reference only. It ignores temporal effects.\n",
    "\n",
    "plt.figure(figsize=(10, 8))\n",
    "sns.heatmap(data.corr(), annot=True, fmt=\".2f\")\n",
    "plt.show()"
   ]
  },
  {
   "cell_type": "code",
   "execution_count": 8,
   "metadata": {},
   "outputs": [
    {
     "data": {
      "text/plain": [
       "[<matplotlib.lines.Line2D at 0x17421c190>]"
      ]
     },
     "execution_count": 8,
     "metadata": {},
     "output_type": "execute_result"
    },
    {
     "data": {
      "image/png": "[encoded data removed]",
      "text/plain": [
       "<Figure size 640x480 with 1 Axes>"
      ]
     },
     "metadata": {},
     "output_type": "display_data"
    }
   ],
   "source": [
    "import matplotlib.pyplot as plt\n",
    "\n",
    "plt.plot(data['USD/JPY'].values)"
   ]
  },
  {
   "cell_type": "code",
   "execution_count": 9,
   "metadata": {},
   "outputs": [
    {
     "name": "stdout",
     "output_type": "stream",
     "text": [
      "ADF value: -0.329741\n",
      "P-value: 0.921185\n",
      "Time lag: 0.000000\n",
      "Number of observations: 1825.000000\n",
      "Critical Values:\n",
      "\t1%: -3.434\n",
      "\t5%: -2.863\n",
      "\t10%: -2.568\n"
     ]
    }
   ],
   "source": [
    "from statsmodels.tsa.stattools import adfuller\n",
    "\n",
    "def adfuller_result(adf):\n",
    "    adf_test = adfuller(adf)\n",
    "    print('ADF value: %f' % adf_test[0])\n",
    "    print('P-value: %f' % adf_test[1])\n",
    "    print('Time lag: %f' % adf_test[2])\n",
    "    print('Number of observations: %f' % adf_test[3])\n",
    "    print('Critical Values:')\n",
    "    for key, value in adf_test[4].items():\n",
    "        print('\\t%s: %.3f' % (key, value))\n",
    "\n",
    "adfuller_result(data['USD/JPY'].values)"
   ]
  },
  {
   "cell_type": "code",
   "execution_count": 10,
   "metadata": {},
   "outputs": [
    {
     "data": {
      "text/html": [
       "<div>\n",
       "<style scoped>\n",
       "    .dataframe tbody tr th:only-of-type {\n",
       "        vertical-align: middle;\n",
       "    }\n",
       "\n",
       "    .dataframe tbody tr th {\n",
       "        vertical-align: top;\n",
       "    }\n",
       "\n",
       "    .dataframe thead th {\n",
       "        text-align: right;\n",
       "    }\n",
       "</style>\n",
       "<table border=\"1\" class=\"dataframe\">\n",
       "  <thead>\n",
       "    <tr style=\"text-align: right;\">\n",
       "      <th></th>\n",
       "      <th>VIF</th>\n",
       "      <th>Predictors</th>\n",
       "    </tr>\n",
       "  </thead>\n",
       "  <tbody>\n",
       "    <tr>\n",
       "      <th>1</th>\n",
       "      <td>567.45</td>\n",
       "      <td>Departure</td>\n",
       "    </tr>\n",
       "    <tr>\n",
       "      <th>2</th>\n",
       "      <td>708.28</td>\n",
       "      <td>Arrival</td>\n",
       "    </tr>\n",
       "    <tr>\n",
       "      <th>3</th>\n",
       "      <td>6.69</td>\n",
       "      <td>GDP</td>\n",
       "    </tr>\n",
       "    <tr>\n",
       "      <th>4</th>\n",
       "      <td>16.24</td>\n",
       "      <td>Stay Length</td>\n",
       "    </tr>\n",
       "    <tr>\n",
       "      <th>5</th>\n",
       "      <td>37.11</td>\n",
       "      <td>Expenditure</td>\n",
       "    </tr>\n",
       "    <tr>\n",
       "      <th>6</th>\n",
       "      <td>6.29</td>\n",
       "      <td>Actual</td>\n",
       "    </tr>\n",
       "  </tbody>\n",
       "</table>\n",
       "</div>"
      ],
      "text/plain": [
       "      VIF   Predictors\n",
       "1  567.45    Departure\n",
       "2  708.28      Arrival\n",
       "3    6.69          GDP\n",
       "4   16.24  Stay Length\n",
       "5   37.11  Expenditure\n",
       "6    6.29       Actual"
      ]
     },
     "execution_count": 10,
     "metadata": {},
     "output_type": "execute_result"
    }
   ],
   "source": [
    "# P-value > 0.05, ADF value > critical values, cannot reject null hypothesis => time series is non-stationary\n",
    "\n",
    "# Start with OLS model\n",
    "from statsmodels.regression.linear_model import OLS\n",
    "import statsmodels.api as sm\n",
    "from statsmodels.stats.outliers_influence import variance_inflation_factor\n",
    "\n",
    "def getvif(X):\n",
    "    X = sm.add_constant(X)\n",
    "    vif = pd.DataFrame()\n",
    "    vif[\"VIF\"] = [variance_inflation_factor(X.values, i) for i in range(X.shape[1])]\n",
    "    vif[\"Predictors\"] = X.columns\n",
    "    return(vif.drop(index = 0).round(2)) \n",
    "\n",
    "X = data[['Departure', 'Arrival', 'GDP', 'Stay Length', 'Expenditure', 'Actual']]\n",
    "X = sm.add_constant(X)\n",
    "y = data['USD/JPY']\n",
    "\n",
    "getvif(X)"
   ]
  },
  {
   "cell_type": "code",
   "execution_count": 11,
   "metadata": {},
   "outputs": [
    {
     "data": {
      "text/html": [
       "<div>\n",
       "<style scoped>\n",
       "    .dataframe tbody tr th:only-of-type {\n",
       "        vertical-align: middle;\n",
       "    }\n",
       "\n",
       "    .dataframe tbody tr th {\n",
       "        vertical-align: top;\n",
       "    }\n",
       "\n",
       "    .dataframe thead th {\n",
       "        text-align: right;\n",
       "    }\n",
       "</style>\n",
       "<table border=\"1\" class=\"dataframe\">\n",
       "  <thead>\n",
       "    <tr style=\"text-align: right;\">\n",
       "      <th></th>\n",
       "      <th>VIF</th>\n",
       "      <th>Predictors</th>\n",
       "    </tr>\n",
       "  </thead>\n",
       "  <tbody>\n",
       "    <tr>\n",
       "      <th>1</th>\n",
       "      <td>7.84</td>\n",
       "      <td>Time</td>\n",
       "    </tr>\n",
       "    <tr>\n",
       "      <th>2</th>\n",
       "      <td>2.18</td>\n",
       "      <td>Arrival</td>\n",
       "    </tr>\n",
       "    <tr>\n",
       "      <th>3</th>\n",
       "      <td>8.35</td>\n",
       "      <td>GDP</td>\n",
       "    </tr>\n",
       "    <tr>\n",
       "      <th>4</th>\n",
       "      <td>2.55</td>\n",
       "      <td>Stay Length</td>\n",
       "    </tr>\n",
       "    <tr>\n",
       "      <th>5</th>\n",
       "      <td>6.46</td>\n",
       "      <td>Expenditure</td>\n",
       "    </tr>\n",
       "    <tr>\n",
       "      <th>6</th>\n",
       "      <td>6.48</td>\n",
       "      <td>Actual</td>\n",
       "    </tr>\n",
       "  </tbody>\n",
       "</table>\n",
       "</div>"
      ],
      "text/plain": [
       "    VIF   Predictors\n",
       "1  7.84         Time\n",
       "2  2.18      Arrival\n",
       "3  8.35          GDP\n",
       "4  2.55  Stay Length\n",
       "5  6.46  Expenditure\n",
       "6  6.48       Actual"
      ]
     },
     "execution_count": 11,
     "metadata": {},
     "output_type": "execute_result"
    }
   ],
   "source": [
    "# Given that VIF > 5, we drop departure\n",
    "data_ols = data.drop(columns=['Departure'])\n",
    "# Add time for time series\n",
    "data_ols['Time'] = np.arange(len(data_ols))\n",
    "\n",
    "X = data_ols[['Time', 'Arrival', 'GDP', 'Stay Length', 'Expenditure', 'Actual']]\n",
    "X = sm.add_constant(X)\n",
    "y = data_ols['USD/JPY']\n",
    "\n",
    "getvif(X)"
   ]
  },
  {
   "cell_type": "code",
   "execution_count": 12,
   "metadata": {},
   "outputs": [
    {
     "data": {
      "text/html": [
       "<div>\n",
       "<style scoped>\n",
       "    .dataframe tbody tr th:only-of-type {\n",
       "        vertical-align: middle;\n",
       "    }\n",
       "\n",
       "    .dataframe tbody tr th {\n",
       "        vertical-align: top;\n",
       "    }\n",
       "\n",
       "    .dataframe thead th {\n",
       "        text-align: right;\n",
       "    }\n",
       "</style>\n",
       "<table border=\"1\" class=\"dataframe\">\n",
       "  <thead>\n",
       "    <tr style=\"text-align: right;\">\n",
       "      <th></th>\n",
       "      <th>Departure</th>\n",
       "      <th>Arrival</th>\n",
       "      <th>GDP</th>\n",
       "      <th>Stay Length</th>\n",
       "      <th>Expenditure</th>\n",
       "      <th>Actual</th>\n",
       "      <th>USD/JPY</th>\n",
       "    </tr>\n",
       "  </thead>\n",
       "  <tbody>\n",
       "    <tr>\n",
       "      <th>count</th>\n",
       "      <td>1826.000000</td>\n",
       "      <td>1826.000000</td>\n",
       "      <td>1.826000e+03</td>\n",
       "      <td>1.826000e+03</td>\n",
       "      <td>1.826000e+03</td>\n",
       "      <td>1.826000e+03</td>\n",
       "      <td>1826.000000</td>\n",
       "    </tr>\n",
       "    <tr>\n",
       "      <th>mean</th>\n",
       "      <td>0.000000</td>\n",
       "      <td>0.000000</td>\n",
       "      <td>-1.058421e-15</td>\n",
       "      <td>-2.801702e-16</td>\n",
       "      <td>-1.867801e-16</td>\n",
       "      <td>-1.245201e-16</td>\n",
       "      <td>119.489394</td>\n",
       "    </tr>\n",
       "    <tr>\n",
       "      <th>std</th>\n",
       "      <td>1.000274</td>\n",
       "      <td>1.000274</td>\n",
       "      <td>1.000274e+00</td>\n",
       "      <td>1.000274e+00</td>\n",
       "      <td>1.000274e+00</td>\n",
       "      <td>1.000274e+00</td>\n",
       "      <td>14.981608</td>\n",
       "    </tr>\n",
       "    <tr>\n",
       "      <th>min</th>\n",
       "      <td>-1.082301</td>\n",
       "      <td>-0.849095</td>\n",
       "      <td>-2.316030e+00</td>\n",
       "      <td>-6.614275e-01</td>\n",
       "      <td>-1.019351e+00</td>\n",
       "      <td>-1.602160e+00</td>\n",
       "      <td>102.678001</td>\n",
       "    </tr>\n",
       "    <tr>\n",
       "      <th>25%</th>\n",
       "      <td>-0.343454</td>\n",
       "      <td>-0.442945</td>\n",
       "      <td>-5.661797e-01</td>\n",
       "      <td>-4.559380e-01</td>\n",
       "      <td>-7.390987e-01</td>\n",
       "      <td>-6.734158e-01</td>\n",
       "      <td>108.211998</td>\n",
       "    </tr>\n",
       "    <tr>\n",
       "      <th>50%</th>\n",
       "      <td>-0.256643</td>\n",
       "      <td>-0.410814</td>\n",
       "      <td>-3.308946e-01</td>\n",
       "      <td>-4.559380e-01</td>\n",
       "      <td>-6.667756e-01</td>\n",
       "      <td>-4.743992e-01</td>\n",
       "      <td>110.764000</td>\n",
       "    </tr>\n",
       "    <tr>\n",
       "      <th>75%</th>\n",
       "      <td>-0.211857</td>\n",
       "      <td>-0.256692</td>\n",
       "      <td>2.646856e-01</td>\n",
       "      <td>-4.189182e-01</td>\n",
       "      <td>1.100620e+00</td>\n",
       "      <td>1.184072e+00</td>\n",
       "      <td>134.066505</td>\n",
       "    </tr>\n",
       "    <tr>\n",
       "      <th>max</th>\n",
       "      <td>1.897220</td>\n",
       "      <td>1.961872</td>\n",
       "      <td>1.739923e+00</td>\n",
       "      <td>1.993369e+00</td>\n",
       "      <td>1.326630e+00</td>\n",
       "      <td>2.046478e+00</td>\n",
       "      <td>151.645996</td>\n",
       "    </tr>\n",
       "  </tbody>\n",
       "</table>\n",
       "</div>"
      ],
      "text/plain": [
       "         Departure      Arrival           GDP   Stay Length   Expenditure  \\\n",
       "count  1826.000000  1826.000000  1.826000e+03  1.826000e+03  1.826000e+03   \n",
       "mean      0.000000     0.000000 -1.058421e-15 -2.801702e-16 -1.867801e-16   \n",
       "std       1.000274     1.000274  1.000274e+00  1.000274e+00  1.000274e+00   \n",
       "min      -1.082301    -0.849095 -2.316030e+00 -6.614275e-01 -1.019351e+00   \n",
       "25%      -0.343454    -0.442945 -5.661797e-01 -4.559380e-01 -7.390987e-01   \n",
       "50%      -0.256643    -0.410814 -3.308946e-01 -4.559380e-01 -6.667756e-01   \n",
       "75%      -0.211857    -0.256692  2.646856e-01 -4.189182e-01  1.100620e+00   \n",
       "max       1.897220     1.961872  1.739923e+00  1.993369e+00  1.326630e+00   \n",
       "\n",
       "             Actual      USD/JPY  \n",
       "count  1.826000e+03  1826.000000  \n",
       "mean  -1.245201e-16   119.489394  \n",
       "std    1.000274e+00    14.981608  \n",
       "min   -1.602160e+00   102.678001  \n",
       "25%   -6.734158e-01   108.211998  \n",
       "50%   -4.743992e-01   110.764000  \n",
       "75%    1.184072e+00   134.066505  \n",
       "max    2.046478e+00   151.645996  "
      ]
     },
     "execution_count": 12,
     "metadata": {},
     "output_type": "execute_result"
    }
   ],
   "source": [
    "data.describe()"
   ]
  },
  {
   "cell_type": "code",
   "execution_count": 13,
   "metadata": {},
   "outputs": [
    {
     "name": "stdout",
     "output_type": "stream",
     "text": [
      "                            OLS Regression Results                            \n",
      "==============================================================================\n",
      "Dep. Variable:                USD/JPY   R-squared:                       0.916\n",
      "Model:                            OLS   Adj. R-squared:                  0.915\n",
      "Method:                 Least Squares   F-statistic:                     3231.\n",
      "Date:                Sun, 26 May 2024   Prob (F-statistic):               0.00\n",
      "Time:                        16:21:10   Log-Likelihood:                -5164.6\n",
      "No. Observations:                1796   AIC:                         1.034e+04\n",
      "Df Residuals:                    1789   BIC:                         1.038e+04\n",
      "Df Model:                           6                                         \n",
      "Covariance Type:            nonrobust                                         \n",
      "===============================================================================\n",
      "                  coef    std err          t      P>|t|      [0.025      0.975]\n",
      "-------------------------------------------------------------------------------\n",
      "const         109.0554      0.511    213.546      0.000     108.054     110.057\n",
      "Time            0.0114      0.001     20.582      0.000       0.010       0.012\n",
      "Arrival         1.6746      0.149     11.264      0.000       1.383       1.966\n",
      "GDP             0.7591      0.291      2.607      0.009       0.188       1.330\n",
      "Stay Length    -0.3713      0.162     -2.298      0.022      -0.688      -0.054\n",
      "Expenditure     1.5049      0.258      5.825      0.000       0.998       2.012\n",
      "Actual          6.9787      0.261     26.719      0.000       6.466       7.491\n",
      "==============================================================================\n",
      "Omnibus:                       51.421   Durbin-Watson:                   0.023\n",
      "Prob(Omnibus):                  0.000   Jarque-Bera (JB):              101.514\n",
      "Skew:                          -0.180   Prob(JB):                     9.05e-23\n",
      "Kurtosis:                       4.108   Cond. No.                     6.16e+03\n",
      "==============================================================================\n",
      "\n",
      "Notes:\n",
      "[1] Standard Errors assume that the covariance matrix of the errors is correctly specified.\n",
      "[2] The condition number is large, 6.16e+03. This might indicate that there are\n",
      "strong multicollinearity or other numerical problems.\n"
     ]
    }
   ],
   "source": [
    "# We predict the last 3 months\n",
    "train_X = X.iloc[:-30,:]\n",
    "train_y = y.iloc[:-30]\n",
    "test_X = X.iloc[-30:,:]\n",
    "test_y = y.iloc[-30:]\n",
    "\n",
    "ols_model = OLS(train_y, train_X).fit()\n",
    "print(ols_model.summary())"
   ]
  },
  {
   "cell_type": "code",
   "execution_count": 14,
   "metadata": {},
   "outputs": [
    {
     "name": "stdout",
     "output_type": "stream",
     "text": [
      "OLS training RMSE: 4.2917\n",
      "OLS test RMSE: 4.2532\n"
     ]
    },
    {
     "name": "stderr",
     "output_type": "stream",
     "text": [
      "/opt/miniconda3/envs/general/lib/python3.11/site-packages/sklearn/metrics/_regression.py:483: FutureWarning: 'squared' is deprecated in version 1.4 and will be removed in 1.6. To calculate the root mean squared error, use the function'root_mean_squared_error'.\n",
      "  warnings.warn(\n",
      "/opt/miniconda3/envs/general/lib/python3.11/site-packages/sklearn/metrics/_regression.py:483: FutureWarning: 'squared' is deprecated in version 1.4 and will be removed in 1.6. To calculate the root mean squared error, use the function'root_mean_squared_error'.\n",
      "  warnings.warn(\n"
     ]
    }
   ],
   "source": [
    "from sklearn.metrics import mean_squared_error\n",
    "\n",
    "# Compare RMSE of training and test set\n",
    "ols_train_rmse = mean_squared_error(train_y, ols_model.predict(train_X), squared=False)\n",
    "ols_test_rmse = mean_squared_error(test_y, ols_model.predict(test_X), squared=False)\n",
    "print('OLS training RMSE: %.4f' % ols_train_rmse)\n",
    "print('OLS test RMSE: %.4f' % ols_test_rmse)"
   ]
  },
  {
   "cell_type": "code",
   "execution_count": 48,
   "metadata": {},
   "outputs": [
    {
     "data": {
      "text/plain": [
       "<Figure size 640x480 with 0 Axes>"
      ]
     },
     "metadata": {},
     "output_type": "display_data"
    },
    {
     "data": {
      "image/png": "[encoded data removed]",
      "text/plain": [
       "<Figure size 1500x1200 with 2 Axes>"
      ]
     },
     "metadata": {},
     "output_type": "display_data"
    }
   ],
   "source": [
    "from statsmodels.graphics.tsaplots import plot_acf\n",
    "from statsmodels.graphics.tsaplots import plot_pacf\n",
    "\n",
    "plt.clf()\n",
    "fig, ax = plt.subplots(2, 1, figsize=(15, 12))\n",
    "plot_acf = plot_acf(data['USD/JPY'], lags=60, ax=ax[0])\n",
    "plot_pacf = plot_pacf(data['USD/JPY'], lags=60, ax=ax[1])"
   ]
  },
  {
   "cell_type": "code",
   "execution_count": 17,
   "metadata": {},
   "outputs": [
    {
     "name": "stderr",
     "output_type": "stream",
     "text": [
      "/opt/miniconda3/envs/general/lib/python3.11/site-packages/statsmodels/tsa/statespace/sarimax.py:966: UserWarning: Non-stationary starting autoregressive parameters found. Using zeros as starting parameters.\n",
      "  warn('Non-stationary starting autoregressive parameters'\n",
      "/opt/miniconda3/envs/general/lib/python3.11/site-packages/statsmodels/tsa/statespace/sarimax.py:978: UserWarning: Non-invertible starting MA parameters found. Using zeros as starting parameters.\n",
      "  warn('Non-invertible starting MA parameters found.'\n"
     ]
    },
    {
     "name": "stdout",
     "output_type": "stream",
     "text": [
      "RMSE scores: [1.5415906854986936, 2.515178302540467, 6.205480126660048, 8.740919551504787, 8.50706687587515]\n"
     ]
    }
   ],
   "source": [
    "from statsmodels.tsa.arima.model import ARIMA\n",
    "from sklearn.model_selection import TimeSeriesSplit\n",
    "from sklearn.metrics import mean_squared_error\n",
    "from math import sqrt\n",
    "\n",
    "y = data['USD/JPY']\n",
    "tscv = TimeSeriesSplit(n_splits=5)\n",
    "\n",
    "rmse_scores = []\n",
    "for train_index, test_index in tscv.split(y):\n",
    "    y_train, y_test = y.iloc[train_index], y.iloc[test_index]\n",
    "\n",
    "    model = ARIMA(y_train, order=(1, 1, 1))\n",
    "    model_fit = model.fit()\n",
    "    y_pred = model_fit.forecast(steps=len(y_test))\n",
    "\n",
    "    rmse = sqrt(mean_squared_error(y_test.values, y_pred))\n",
    "    rmse_scores.append(rmse)\n",
    "\n",
    "print(f'RMSE scores: {rmse_scores}')"
   ]
  },
  {
   "cell_type": "code",
   "execution_count": 19,
   "metadata": {},
   "outputs": [
    {
     "name": "stdout",
     "output_type": "stream",
     "text": [
      "Performing stepwise search to minimize aic\n",
      " ARIMA(0,1,0)(1,0,1)[52] intercept   : AIC=3075.391, Time=22.25 sec\n",
      " ARIMA(0,1,0)(0,0,0)[52] intercept   : AIC=3072.268, Time=0.12 sec\n",
      " ARIMA(1,1,0)(1,0,0)[52] intercept   : AIC=3075.479, Time=9.25 sec\n",
      " ARIMA(0,1,1)(0,0,1)[52] intercept   : AIC=3075.458, Time=12.92 sec\n",
      " ARIMA(0,1,0)(0,0,0)[52]             : AIC=3072.801, Time=0.07 sec\n",
      " ARIMA(0,1,0)(1,0,0)[52] intercept   : AIC=3073.484, Time=9.10 sec\n",
      " ARIMA(0,1,0)(0,0,1)[52] intercept   : AIC=3073.464, Time=5.98 sec\n",
      " ARIMA(1,1,0)(0,0,0)[52] intercept   : AIC=3074.268, Time=0.09 sec\n",
      " ARIMA(0,1,1)(0,0,0)[52] intercept   : AIC=3074.268, Time=0.10 sec\n",
      " ARIMA(1,1,1)(0,0,0)[52] intercept   : AIC=3074.566, Time=0.28 sec\n",
      "\n",
      "Best model:  ARIMA(0,1,0)(0,0,0)[52] intercept\n",
      "Total fit time: 60.216 seconds\n"
     ]
    }
   ],
   "source": [
    "import pmdarima.arima as pm\n",
    "\n",
    "model = pm.auto_arima(y_train, \n",
    "                      m=52,               # frequency of series                      \n",
    "                      seasonal=True,  # TRUE if seasonal series\n",
    "                      d=None,             # let model determine 'd'\n",
    "                      test='adf',         # use adftest to find optimal 'd'\n",
    "                      start_p=0, start_q=0, # minimum p and q\n",
    "                      max_p=50, max_q=50, # maximum p and q\n",
    "                      D=None,             # let model determine 'D'\n",
    "                      trace=True,\n",
    "                      error_action='ignore',  \n",
    "                      suppress_warnings=True, \n",
    "                      stepwise=True)"
   ]
  },
  {
   "cell_type": "code",
   "execution_count": 21,
   "metadata": {},
   "outputs": [
    {
     "name": "stdout",
     "output_type": "stream",
     "text": [
      "Performing stepwise search to minimize aic\n",
      " ARIMA(0,1,0)(1,0,1)[12] intercept   : AIC=3067.561, Time=1.70 sec\n",
      " ARIMA(0,1,0)(0,0,0)[12] intercept   : AIC=3072.268, Time=0.11 sec\n",
      " ARIMA(1,1,0)(1,0,0)[12] intercept   : AIC=3075.782, Time=0.48 sec\n",
      " ARIMA(0,1,1)(0,0,1)[12] intercept   : AIC=3075.788, Time=0.95 sec\n",
      " ARIMA(0,1,0)(0,0,0)[12]             : AIC=3072.801, Time=0.05 sec\n",
      " ARIMA(0,1,0)(0,0,1)[12] intercept   : AIC=3073.789, Time=0.75 sec\n",
      " ARIMA(0,1,0)(1,0,0)[12] intercept   : AIC=3073.783, Time=0.35 sec\n",
      " ARIMA(0,1,0)(2,0,1)[12] intercept   : AIC=3068.562, Time=5.53 sec\n",
      " ARIMA(0,1,0)(1,0,2)[12] intercept   : AIC=3068.698, Time=5.32 sec\n",
      " ARIMA(0,1,0)(0,0,2)[12] intercept   : AIC=3075.726, Time=1.82 sec\n",
      " ARIMA(0,1,0)(2,0,0)[12] intercept   : AIC=3075.683, Time=0.96 sec\n",
      " ARIMA(0,1,0)(2,0,2)[12] intercept   : AIC=inf, Time=17.17 sec\n",
      " ARIMA(1,1,0)(1,0,1)[12] intercept   : AIC=3069.561, Time=2.34 sec\n",
      " ARIMA(0,1,1)(1,0,1)[12] intercept   : AIC=3069.561, Time=2.71 sec\n",
      " ARIMA(1,1,1)(1,0,1)[12] intercept   : AIC=3069.716, Time=5.03 sec\n",
      " ARIMA(0,1,0)(1,0,1)[12]             : AIC=3067.981, Time=1.60 sec\n",
      "\n",
      "Best model:  ARIMA(0,1,0)(1,0,1)[12] intercept\n",
      "Total fit time: 46.935 seconds\n"
     ]
    }
   ],
   "source": [
    "model = pm.auto_arima(y_train, \n",
    "                      m=12,               # frequency of series                      \n",
    "                      seasonal=True,  # TRUE if seasonal series\n",
    "                      d=None,             # let model determine 'd'\n",
    "                      test='adf',         # use adftest to find optimal 'd'\n",
    "                      start_p=0, start_q=0, # minimum p and q\n",
    "                      max_p=50, max_q=50, # maximum p and q\n",
    "                      D=None,             # let model determine 'D'\n",
    "                      trace=True,\n",
    "                      error_action='ignore',  \n",
    "                      suppress_warnings=True, \n",
    "                      stepwise=True)"
   ]
  },
  {
   "cell_type": "code",
   "execution_count": 22,
   "metadata": {},
   "outputs": [
    {
     "name": "stdout",
     "output_type": "stream",
     "text": [
      "ARIMA training RMSE: 2.6487223094463377\n",
      "ARIMA test RMSE: 4.706877804795711\n"
     ]
    }
   ],
   "source": [
    "y_train = data['USD/JPY'].iloc[:-30]\n",
    "y_test = data['USD/JPY'].iloc[-30:]\n",
    "\n",
    "model = ARIMA(y_train, order=(0, 1, 0))\n",
    "model_fit = model.fit()\n",
    "y_pred = model_fit.forecast(steps=len(y_test))\n",
    "\n",
    "arima_train_rmse = sqrt(mean_squared_error(y_train.values, model_fit.fittedvalues))\n",
    "arima_test_rmse = sqrt(mean_squared_error(y_test.values, y_pred))\n",
    "\n",
    "print(f'ARIMA training RMSE: {arima_train_rmse}')\n",
    "print(f'ARIMA test RMSE: {arima_test_rmse}')"
   ]
  },
  {
   "cell_type": "code",
   "execution_count": 23,
   "metadata": {},
   "outputs": [
    {
     "name": "stdout",
     "output_type": "stream",
     "text": [
      "RUNNING THE L-BFGS-B CODE\n",
      "\n",
      "           * * *\n",
      "\n",
      "Machine precision = 2.220D-16\n",
      " N =            6     M =           10\n",
      "\n",
      "At X0         0 variables are exactly at the bounds\n",
      "\n",
      "At iterate    0    f=  4.09930D+00    |proj g|=  4.14411D-02\n"
     ]
    },
    {
     "name": "stderr",
     "output_type": "stream",
     "text": [
      " This problem is unconstrained.\n"
     ]
    },
    {
     "name": "stdout",
     "output_type": "stream",
     "text": [
      "\n",
      "At iterate    5    f=  8.54450D-01    |proj g|=  7.83527D-04\n",
      "\n",
      "           * * *\n",
      "\n",
      "Tit   = total number of iterations\n",
      "Tnf   = total number of function evaluations\n",
      "Tnint = total number of segments explored during Cauchy searches\n",
      "Skip  = number of BFGS updates skipped\n",
      "Nact  = number of active bounds at final generalized Cauchy point\n",
      "Projg = norm of the final projected gradient\n",
      "F     = final function value\n",
      "\n",
      "           * * *\n",
      "\n",
      "   N    Tit     Tnf  Tnint  Skip  Nact     Projg        F\n",
      "    6      7     22      1     0     0   1.012D-07   8.544D-01\n",
      "  F =  0.85444982058182406     \n",
      "\n",
      "CONVERGENCE: NORM_OF_PROJECTED_GRADIENT_<=_PGTOL            \n",
      "SARIMAX training RMSE: 2.651601659694071\n",
      "SARIMAX test RMSE: 4.706877804795711\n"
     ]
    }
   ],
   "source": [
    "from statsmodels.tsa.statespace.sarimax import SARIMAX\n",
    "\n",
    "X = data[['Arrival', 'GDP', 'Stay Length', 'Expenditure', 'Actual']]\n",
    "y = data['USD/JPY']\n",
    "\n",
    "X_train = X.iloc[:-30,:]\n",
    "y_train = y.iloc[:-30]\n",
    "X_test = X.iloc[-30:,:]\n",
    "y_test = y.iloc[-30:]\n",
    "\n",
    "model = SARIMAX(y_train, exog=X_train, order=(0, 1, 0), seasonal_order=(0, 0, 0, 52))\n",
    "model_fit = model.fit()\n",
    "y_pred = model_fit.forecast(steps=len(y_test), exog=X_test)\n",
    "\n",
    "sarimax_train_rmse = sqrt(mean_squared_error(y_train.values, model_fit.fittedvalues))\n",
    "sarimax_test_rmse = sqrt(mean_squared_error(y_test.values, y_pred))\n",
    "\n",
    "print(f'SARIMAX training RMSE: {sarimax_train_rmse}')\n",
    "print(f'SARIMAX test RMSE: {sarimax_test_rmse}')"
   ]
  },
  {
   "cell_type": "code",
   "execution_count": 24,
   "metadata": {},
   "outputs": [
    {
     "name": "stdout",
     "output_type": "stream",
     "text": [
      "RUNNING THE L-BFGS-B CODE\n",
      "\n",
      "           * * *\n",
      "\n",
      "Machine precision = 2.220D-16\n",
      " N =            8     M =           10\n",
      "\n",
      "At X0         0 variables are exactly at the bounds\n",
      "\n",
      "At iterate    0    f=  8.54317D-01    |proj g|=  1.22522D-02\n"
     ]
    },
    {
     "name": "stderr",
     "output_type": "stream",
     "text": [
      " This problem is unconstrained.\n"
     ]
    },
    {
     "name": "stdout",
     "output_type": "stream",
     "text": [
      "\n",
      "At iterate    5    f=  8.54303D-01    |proj g|=  6.61966D-04\n",
      "\n",
      "At iterate   10    f=  8.54298D-01    |proj g|=  7.61732D-04\n",
      "\n",
      "At iterate   15    f=  8.54218D-01    |proj g|=  6.60255D-03\n",
      "\n",
      "At iterate   20    f=  8.53405D-01    |proj g|=  2.24465D-02\n",
      "\n",
      "At iterate   25    f=  8.51989D-01    |proj g|=  1.61652D-02\n",
      "\n",
      "At iterate   30    f=  8.51822D-01    |proj g|=  4.30366D-03\n",
      "\n",
      "At iterate   35    f=  8.51806D-01    |proj g|=  1.62921D-04\n",
      "\n",
      "At iterate   40    f=  8.51804D-01    |proj g|=  5.16045D-04\n",
      "\n",
      "At iterate   45    f=  8.51802D-01    |proj g|=  5.27219D-05\n",
      "\n",
      "           * * *\n",
      "\n",
      "Tit   = total number of iterations\n",
      "Tnf   = total number of function evaluations\n",
      "Tnint = total number of segments explored during Cauchy searches\n",
      "Skip  = number of BFGS updates skipped\n",
      "Nact  = number of active bounds at final generalized Cauchy point\n",
      "Projg = norm of the final projected gradient\n",
      "F     = final function value\n",
      "\n",
      "           * * *\n",
      "\n",
      "   N    Tit     Tnf  Tnint  Skip  Nact     Projg        F\n",
      "    8     48     60      1     0     0   3.160D-06   8.518D-01\n",
      "  F =  0.85180152324100789     \n",
      "\n",
      "CONVERGENCE: NORM_OF_PROJECTED_GRADIENT_<=_PGTOL            \n",
      "SARIMAX training RMSE: 2.6510792099660114\n",
      "SARIMAX test RMSE: 4.642884927364306\n"
     ]
    }
   ],
   "source": [
    "X = data[['Arrival', 'GDP', 'Stay Length', 'Expenditure', 'Actual']]\n",
    "y = data['USD/JPY']\n",
    "\n",
    "X_train = X.iloc[:-30,:]\n",
    "y_train = y.iloc[:-30]\n",
    "X_test = X.iloc[-30:,:]\n",
    "y_test = y.iloc[-30:]\n",
    "\n",
    "model = SARIMAX(y_train, exog=X_train, order=(0, 1, 0), seasonal_order=(1, 0, 1, 12))\n",
    "model_fit = model.fit()\n",
    "y_pred = model_fit.forecast(steps=len(y_test), exog=X_test)\n",
    "\n",
    "sarimax_train_rmse = sqrt(mean_squared_error(y_train.values, model_fit.fittedvalues))\n",
    "sarimax_test_rmse = sqrt(mean_squared_error(y_test.values, y_pred))\n",
    "\n",
    "print(f'SARIMAX training RMSE: {sarimax_train_rmse}')\n",
    "print(f'SARIMAX test RMSE: {sarimax_test_rmse}')"
   ]
  },
  {
   "cell_type": "markdown",
   "metadata": {},
   "source": [
    "**Predict change**"
   ]
  },
  {
   "cell_type": "code",
   "execution_count": 34,
   "metadata": {},
   "outputs": [
    {
     "data": {
      "text/html": [
       "<div>\n",
       "<style scoped>\n",
       "    .dataframe tbody tr th:only-of-type {\n",
       "        vertical-align: middle;\n",
       "    }\n",
       "\n",
       "    .dataframe tbody tr th {\n",
       "        vertical-align: top;\n",
       "    }\n",
       "\n",
       "    .dataframe thead th {\n",
       "        text-align: right;\n",
       "    }\n",
       "</style>\n",
       "<table border=\"1\" class=\"dataframe\">\n",
       "  <thead>\n",
       "    <tr style=\"text-align: right;\">\n",
       "      <th></th>\n",
       "      <th>Departure</th>\n",
       "      <th>Arrival</th>\n",
       "      <th>GDP</th>\n",
       "      <th>Stay Length</th>\n",
       "      <th>Expenditure</th>\n",
       "      <th>Actual</th>\n",
       "      <th>Diff</th>\n",
       "    </tr>\n",
       "  </thead>\n",
       "  <tbody>\n",
       "    <tr>\n",
       "      <th>2019-01-02</th>\n",
       "      <td>-0.211857</td>\n",
       "      <td>-0.410814</td>\n",
       "      <td>-0.065684</td>\n",
       "      <td>-0.661428</td>\n",
       "      <td>1.10062</td>\n",
       "      <td>-0.673416</td>\n",
       "      <td>0.038002</td>\n",
       "    </tr>\n",
       "    <tr>\n",
       "      <th>2019-01-03</th>\n",
       "      <td>-0.211857</td>\n",
       "      <td>-0.410814</td>\n",
       "      <td>-0.065684</td>\n",
       "      <td>-0.661428</td>\n",
       "      <td>1.10062</td>\n",
       "      <td>-0.673416</td>\n",
       "      <td>-2.226997</td>\n",
       "    </tr>\n",
       "    <tr>\n",
       "      <th>2019-01-04</th>\n",
       "      <td>-0.211857</td>\n",
       "      <td>-0.410814</td>\n",
       "      <td>-0.065684</td>\n",
       "      <td>-0.661428</td>\n",
       "      <td>1.10062</td>\n",
       "      <td>-0.673416</td>\n",
       "      <td>0.366997</td>\n",
       "    </tr>\n",
       "    <tr>\n",
       "      <th>2019-01-05</th>\n",
       "      <td>-0.211857</td>\n",
       "      <td>-0.410814</td>\n",
       "      <td>-0.065684</td>\n",
       "      <td>-0.661428</td>\n",
       "      <td>1.10062</td>\n",
       "      <td>-0.673416</td>\n",
       "      <td>0.714004</td>\n",
       "    </tr>\n",
       "    <tr>\n",
       "      <th>2019-01-06</th>\n",
       "      <td>-0.211857</td>\n",
       "      <td>-0.410814</td>\n",
       "      <td>-0.065684</td>\n",
       "      <td>-0.661428</td>\n",
       "      <td>1.10062</td>\n",
       "      <td>-0.673416</td>\n",
       "      <td>0.000000</td>\n",
       "    </tr>\n",
       "  </tbody>\n",
       "</table>\n",
       "</div>"
      ],
      "text/plain": [
       "            Departure   Arrival       GDP  Stay Length  Expenditure    Actual  \\\n",
       "2019-01-02  -0.211857 -0.410814 -0.065684    -0.661428      1.10062 -0.673416   \n",
       "2019-01-03  -0.211857 -0.410814 -0.065684    -0.661428      1.10062 -0.673416   \n",
       "2019-01-04  -0.211857 -0.410814 -0.065684    -0.661428      1.10062 -0.673416   \n",
       "2019-01-05  -0.211857 -0.410814 -0.065684    -0.661428      1.10062 -0.673416   \n",
       "2019-01-06  -0.211857 -0.410814 -0.065684    -0.661428      1.10062 -0.673416   \n",
       "\n",
       "                Diff  \n",
       "2019-01-02  0.038002  \n",
       "2019-01-03 -2.226997  \n",
       "2019-01-04  0.366997  \n",
       "2019-01-05  0.714004  \n",
       "2019-01-06  0.000000  "
      ]
     },
     "execution_count": 34,
     "metadata": {},
     "output_type": "execute_result"
    }
   ],
   "source": [
    "data['Diff'] = data['USD/JPY'].diff()\n",
    "data_diff = data.dropna().drop(columns=['USD/JPY'])\n",
    "data_diff.head()"
   ]
  },
  {
   "cell_type": "code",
   "execution_count": 35,
   "metadata": {},
   "outputs": [
    {
     "data": {
      "image/png": "[encoded data removed]",
      "text/plain": [
       "<Figure size 1000x800 with 2 Axes>"
      ]
     },
     "metadata": {},
     "output_type": "display_data"
    }
   ],
   "source": [
    "plt.figure(figsize=(10, 8))\n",
    "sns.heatmap(data_diff.corr(), annot=True, fmt=\".2f\")\n",
    "plt.show()"
   ]
  },
  {
   "cell_type": "code",
   "execution_count": 36,
   "metadata": {},
   "outputs": [
    {
     "name": "stdout",
     "output_type": "stream",
     "text": [
      "ADF value: -31.790938\n",
      "P-value: 0.000000\n",
      "Time lag: 1.000000\n",
      "Number of observations: 1823.000000\n",
      "Critical Values:\n",
      "\t1%: -3.434\n",
      "\t5%: -2.863\n",
      "\t10%: -2.568\n"
     ]
    }
   ],
   "source": [
    "adfuller_result(data_diff['Diff'].values)"
   ]
  },
  {
   "cell_type": "code",
   "execution_count": 39,
   "metadata": {},
   "outputs": [
    {
     "data": {
      "text/html": [
       "<div>\n",
       "<style scoped>\n",
       "    .dataframe tbody tr th:only-of-type {\n",
       "        vertical-align: middle;\n",
       "    }\n",
       "\n",
       "    .dataframe tbody tr th {\n",
       "        vertical-align: top;\n",
       "    }\n",
       "\n",
       "    .dataframe thead th {\n",
       "        text-align: right;\n",
       "    }\n",
       "</style>\n",
       "<table border=\"1\" class=\"dataframe\">\n",
       "  <thead>\n",
       "    <tr style=\"text-align: right;\">\n",
       "      <th></th>\n",
       "      <th>VIF</th>\n",
       "      <th>Predictors</th>\n",
       "    </tr>\n",
       "  </thead>\n",
       "  <tbody>\n",
       "    <tr>\n",
       "      <th>1</th>\n",
       "      <td>567.63</td>\n",
       "      <td>Departure</td>\n",
       "    </tr>\n",
       "    <tr>\n",
       "      <th>2</th>\n",
       "      <td>708.42</td>\n",
       "      <td>Arrival</td>\n",
       "    </tr>\n",
       "    <tr>\n",
       "      <th>3</th>\n",
       "      <td>6.69</td>\n",
       "      <td>GDP</td>\n",
       "    </tr>\n",
       "    <tr>\n",
       "      <th>4</th>\n",
       "      <td>16.24</td>\n",
       "      <td>Stay Length</td>\n",
       "    </tr>\n",
       "    <tr>\n",
       "      <th>5</th>\n",
       "      <td>37.08</td>\n",
       "      <td>Expenditure</td>\n",
       "    </tr>\n",
       "    <tr>\n",
       "      <th>6</th>\n",
       "      <td>6.29</td>\n",
       "      <td>Actual</td>\n",
       "    </tr>\n",
       "  </tbody>\n",
       "</table>\n",
       "</div>"
      ],
      "text/plain": [
       "      VIF   Predictors\n",
       "1  567.63    Departure\n",
       "2  708.42      Arrival\n",
       "3    6.69          GDP\n",
       "4   16.24  Stay Length\n",
       "5   37.08  Expenditure\n",
       "6    6.29       Actual"
      ]
     },
     "execution_count": 39,
     "metadata": {},
     "output_type": "execute_result"
    }
   ],
   "source": [
    "X = data_diff[['Departure', 'Arrival', 'GDP', 'Stay Length', 'Expenditure', 'Actual']]\n",
    "X = sm.add_constant(X)\n",
    "y = data_diff['Diff']\n",
    "\n",
    "getvif(X)"
   ]
  },
  {
   "cell_type": "code",
   "execution_count": 41,
   "metadata": {},
   "outputs": [
    {
     "data": {
      "text/html": [
       "<div>\n",
       "<style scoped>\n",
       "    .dataframe tbody tr th:only-of-type {\n",
       "        vertical-align: middle;\n",
       "    }\n",
       "\n",
       "    .dataframe tbody tr th {\n",
       "        vertical-align: top;\n",
       "    }\n",
       "\n",
       "    .dataframe thead th {\n",
       "        text-align: right;\n",
       "    }\n",
       "</style>\n",
       "<table border=\"1\" class=\"dataframe\">\n",
       "  <thead>\n",
       "    <tr style=\"text-align: right;\">\n",
       "      <th></th>\n",
       "      <th>VIF</th>\n",
       "      <th>Predictors</th>\n",
       "    </tr>\n",
       "  </thead>\n",
       "  <tbody>\n",
       "    <tr>\n",
       "      <th>1</th>\n",
       "      <td>7.84</td>\n",
       "      <td>Time</td>\n",
       "    </tr>\n",
       "    <tr>\n",
       "      <th>2</th>\n",
       "      <td>2.18</td>\n",
       "      <td>Arrival</td>\n",
       "    </tr>\n",
       "    <tr>\n",
       "      <th>3</th>\n",
       "      <td>8.35</td>\n",
       "      <td>GDP</td>\n",
       "    </tr>\n",
       "    <tr>\n",
       "      <th>4</th>\n",
       "      <td>2.55</td>\n",
       "      <td>Stay Length</td>\n",
       "    </tr>\n",
       "    <tr>\n",
       "      <th>5</th>\n",
       "      <td>6.46</td>\n",
       "      <td>Expenditure</td>\n",
       "    </tr>\n",
       "    <tr>\n",
       "      <th>6</th>\n",
       "      <td>6.48</td>\n",
       "      <td>Actual</td>\n",
       "    </tr>\n",
       "  </tbody>\n",
       "</table>\n",
       "</div>"
      ],
      "text/plain": [
       "    VIF   Predictors\n",
       "1  7.84         Time\n",
       "2  2.18      Arrival\n",
       "3  8.35          GDP\n",
       "4  2.55  Stay Length\n",
       "5  6.46  Expenditure\n",
       "6  6.48       Actual"
      ]
     },
     "execution_count": 41,
     "metadata": {},
     "output_type": "execute_result"
    }
   ],
   "source": [
    "data_ols = data_diff.drop(columns=['Departure'])\n",
    "# Add time for time series\n",
    "data_ols['Time'] = np.arange(len(data_ols))\n",
    "\n",
    "X = data_ols[['Time', 'Arrival', 'GDP', 'Stay Length', 'Expenditure', 'Actual']]\n",
    "X = sm.add_constant(X)\n",
    "y = data_ols['Diff']\n",
    "\n",
    "getvif(X)"
   ]
  },
  {
   "cell_type": "code",
   "execution_count": 43,
   "metadata": {},
   "outputs": [
    {
     "name": "stdout",
     "output_type": "stream",
     "text": [
      "                            OLS Regression Results                            \n",
      "==============================================================================\n",
      "Dep. Variable:                   Diff   R-squared:                       0.005\n",
      "Model:                            OLS   Adj. R-squared:                  0.002\n",
      "Method:                 Least Squares   F-statistic:                     1.557\n",
      "Date:                Sun, 26 May 2024   Prob (F-statistic):              0.156\n",
      "Time:                        16:35:15   Log-Likelihood:                -1529.5\n",
      "No. Observations:                1795   AIC:                             3073.\n",
      "Df Residuals:                    1788   BIC:                             3111.\n",
      "Df Model:                           6                                         \n",
      "Covariance Type:            nonrobust                                         \n",
      "===============================================================================\n",
      "                  coef    std err          t      P>|t|      [0.025      0.975]\n",
      "-------------------------------------------------------------------------------\n",
      "const          -0.1434      0.067     -2.125      0.034      -0.276      -0.011\n",
      "Time            0.0002   7.31e-05      2.492      0.013    3.87e-05       0.000\n",
      "Arrival         0.0377      0.020      1.918      0.055      -0.001       0.076\n",
      "GDP            -0.0717      0.038     -1.863      0.063      -0.147       0.004\n",
      "Stay Length     0.0140      0.021      0.655      0.512      -0.028       0.056\n",
      "Expenditure     0.0825      0.034      2.417      0.016       0.016       0.150\n",
      "Actual         -0.0593      0.035     -1.718      0.086      -0.127       0.008\n",
      "==============================================================================\n",
      "Omnibus:                      394.512   Durbin-Watson:                   2.009\n",
      "Prob(Omnibus):                  0.000   Jarque-Bera (JB):             7546.279\n",
      "Skew:                          -0.512   Prob(JB):                         0.00\n",
      "Kurtosis:                      12.992   Cond. No.                     6.16e+03\n",
      "==============================================================================\n",
      "\n",
      "Notes:\n",
      "[1] Standard Errors assume that the covariance matrix of the errors is correctly specified.\n",
      "[2] The condition number is large, 6.16e+03. This might indicate that there are\n",
      "strong multicollinearity or other numerical problems.\n"
     ]
    }
   ],
   "source": [
    "train_X = X.iloc[:-30,:]\n",
    "train_y = y.iloc[:-30]\n",
    "test_X = X.iloc[-30:,:]\n",
    "test_y = y.iloc[-30:]\n",
    "\n",
    "# Result suggests that the selected variables cannot be used to predict the change in exchange rate directly\n",
    "# So RMSE is not calculated\n",
    "ols_model = OLS(train_y, train_X).fit()\n",
    "print(ols_model.summary())"
   ]
  },
  {
   "cell_type": "code",
   "execution_count": 50,
   "metadata": {},
   "outputs": [
    {
     "data": {
      "text/plain": [
       "<Figure size 640x480 with 0 Axes>"
      ]
     },
     "metadata": {},
     "output_type": "display_data"
    },
    {
     "data": {
      "image/png": "[encoded data removed]",
      "text/plain": [
       "<Figure size 1500x1200 with 2 Axes>"
      ]
     },
     "metadata": {},
     "output_type": "display_data"
    }
   ],
   "source": [
    "from statsmodels.graphics.tsaplots import plot_acf\n",
    "from statsmodels.graphics.tsaplots import plot_pacf\n",
    "\n",
    "plt.clf()\n",
    "fig, ax = plt.subplots(2, 1, figsize=(15, 12))\n",
    "plot_acf = plot_acf(data_diff['Diff'], lags=60, ax=ax[0])\n",
    "plot_pacf = plot_pacf(data_diff['Diff'], lags=60, ax=ax[1])"
   ]
  },
  {
   "cell_type": "code",
   "execution_count": null,
   "metadata": {},
   "outputs": [],
   "source": [
    "# ACF and PACF shows significance at lag = 0, 20, 36, 42\n",
    "# We try (3,0,1)"
   ]
  },
  {
   "cell_type": "code",
   "execution_count": 51,
   "metadata": {},
   "outputs": [
    {
     "name": "stderr",
     "output_type": "stream",
     "text": [
      "/opt/miniconda3/envs/general/lib/python3.11/site-packages/statsmodels/tsa/statespace/sarimax.py:966: UserWarning: Non-stationary starting autoregressive parameters found. Using zeros as starting parameters.\n",
      "  warn('Non-stationary starting autoregressive parameters'\n",
      "/opt/miniconda3/envs/general/lib/python3.11/site-packages/statsmodels/tsa/statespace/sarimax.py:978: UserWarning: Non-invertible starting MA parameters found. Using zeros as starting parameters.\n",
      "  warn('Non-invertible starting MA parameters found.'\n",
      "/opt/miniconda3/envs/general/lib/python3.11/site-packages/statsmodels/tsa/statespace/sarimax.py:966: UserWarning: Non-stationary starting autoregressive parameters found. Using zeros as starting parameters.\n",
      "  warn('Non-stationary starting autoregressive parameters'\n",
      "/opt/miniconda3/envs/general/lib/python3.11/site-packages/statsmodels/tsa/statespace/sarimax.py:978: UserWarning: Non-invertible starting MA parameters found. Using zeros as starting parameters.\n",
      "  warn('Non-invertible starting MA parameters found.'\n"
     ]
    },
    {
     "name": "stdout",
     "output_type": "stream",
     "text": [
      "RMSE scores: [0.4949922939741107, 0.2899677434920297, 0.43328712742416325, 0.9261062863613878, 0.7040404767986772]\n"
     ]
    }
   ],
   "source": [
    "y = data_diff['Diff']\n",
    "tscv = TimeSeriesSplit(n_splits=5)\n",
    "\n",
    "rmse_scores = []\n",
    "for train_index, test_index in tscv.split(y):\n",
    "    y_train, y_test = y.iloc[train_index], y.iloc[test_index]\n",
    "\n",
    "    model = ARIMA(y_train, order=(3, 0, 1))\n",
    "    model_fit = model.fit()\n",
    "    y_pred = model_fit.forecast(steps=len(y_test))\n",
    "\n",
    "    rmse = sqrt(mean_squared_error(y_test.values, y_pred))\n",
    "    rmse_scores.append(rmse)\n",
    "\n",
    "print(f'RMSE scores: {rmse_scores}')"
   ]
  },
  {
   "cell_type": "code",
   "execution_count": 53,
   "metadata": {},
   "outputs": [
    {
     "name": "stdout",
     "output_type": "stream",
     "text": [
      "Performing stepwise search to minimize aic\n",
      " ARIMA(0,0,0)(1,0,1)[52] intercept   : AIC=2492.485, Time=11.86 sec\n",
      " ARIMA(0,0,0)(0,0,0)[52] intercept   : AIC=2489.468, Time=0.13 sec\n",
      " ARIMA(1,0,0)(1,0,0)[52] intercept   : AIC=2492.569, Time=5.05 sec\n",
      " ARIMA(0,0,1)(0,0,1)[52] intercept   : AIC=2492.544, Time=6.98 sec\n",
      " ARIMA(0,0,0)(0,0,0)[52]             : AIC=2489.013, Time=0.05 sec\n",
      " ARIMA(0,0,0)(1,0,0)[52] intercept   : AIC=2490.577, Time=4.14 sec\n",
      " ARIMA(0,0,0)(0,0,1)[52] intercept   : AIC=2490.553, Time=4.25 sec\n",
      " ARIMA(1,0,0)(0,0,0)[52] intercept   : AIC=2491.439, Time=0.08 sec\n",
      " ARIMA(0,0,1)(0,0,0)[52] intercept   : AIC=2491.436, Time=0.11 sec\n",
      " ARIMA(1,0,1)(0,0,0)[52] intercept   : AIC=2492.521, Time=0.30 sec\n",
      "\n",
      "Best model:  ARIMA(0,0,0)(0,0,0)[52]          \n",
      "Total fit time: 32.990 seconds\n"
     ]
    }
   ],
   "source": [
    "model = pm.auto_arima(y_train, \n",
    "                      m=52,               # frequency of series                      \n",
    "                      seasonal=True,  # TRUE if seasonal series\n",
    "                      d=None,             # let model determine 'd'\n",
    "                      test='adf',         # use adftest to find optimal 'd'\n",
    "                      start_p=0, start_q=0, # minimum p and q\n",
    "                      max_p=50, max_q=50, # maximum p and q\n",
    "                      D=None,             # let model determine 'D'\n",
    "                      trace=True,\n",
    "                      error_action='ignore',  \n",
    "                      suppress_warnings=True, \n",
    "                      stepwise=True)"
   ]
  },
  {
   "cell_type": "code",
   "execution_count": 54,
   "metadata": {},
   "outputs": [
    {
     "name": "stdout",
     "output_type": "stream",
     "text": [
      "Performing stepwise search to minimize aic\n",
      " ARIMA(0,0,0)(1,0,1)[12] intercept   : AIC=2488.598, Time=1.40 sec\n",
      " ARIMA(0,0,0)(0,0,0)[12] intercept   : AIC=2489.468, Time=0.15 sec\n",
      " ARIMA(1,0,0)(1,0,0)[12] intercept   : AIC=2492.878, Time=0.36 sec\n",
      " ARIMA(0,0,1)(0,0,1)[12] intercept   : AIC=2492.885, Time=1.18 sec\n",
      " ARIMA(0,0,0)(0,0,0)[12]             : AIC=2489.013, Time=0.07 sec\n",
      " ARIMA(0,0,0)(0,0,1)[12] intercept   : AIC=2490.926, Time=1.14 sec\n",
      " ARIMA(0,0,0)(1,0,0)[12] intercept   : AIC=2490.915, Time=0.59 sec\n",
      " ARIMA(0,0,0)(2,0,1)[12] intercept   : AIC=2490.338, Time=7.38 sec\n",
      " ARIMA(0,0,0)(1,0,2)[12] intercept   : AIC=inf, Time=9.23 sec\n",
      " ARIMA(0,0,0)(0,0,2)[12] intercept   : AIC=2492.778, Time=1.47 sec\n",
      " ARIMA(0,0,0)(2,0,0)[12] intercept   : AIC=2492.750, Time=0.94 sec\n",
      " ARIMA(0,0,0)(2,0,2)[12] intercept   : AIC=inf, Time=8.24 sec\n",
      " ARIMA(1,0,0)(1,0,1)[12] intercept   : AIC=2490.570, Time=1.54 sec\n",
      " ARIMA(0,0,1)(1,0,1)[12] intercept   : AIC=2490.567, Time=1.75 sec\n",
      " ARIMA(1,0,1)(1,0,1)[12] intercept   : AIC=2491.728, Time=2.87 sec\n",
      " ARIMA(0,0,0)(1,0,1)[12]             : AIC=2488.097, Time=0.87 sec\n",
      " ARIMA(0,0,0)(0,0,1)[12]             : AIC=2490.415, Time=0.60 sec\n",
      " ARIMA(0,0,0)(1,0,0)[12]             : AIC=2490.402, Time=0.08 sec\n",
      " ARIMA(0,0,0)(2,0,1)[12]             : AIC=2489.875, Time=1.76 sec\n",
      " ARIMA(0,0,0)(1,0,2)[12]             : AIC=inf, Time=3.32 sec\n",
      " ARIMA(0,0,0)(0,0,2)[12]             : AIC=2492.242, Time=0.82 sec\n",
      " ARIMA(0,0,0)(2,0,0)[12]             : AIC=2492.209, Time=0.26 sec\n",
      " ARIMA(0,0,0)(2,0,2)[12]             : AIC=inf, Time=8.01 sec\n",
      " ARIMA(1,0,0)(1,0,1)[12]             : AIC=2490.081, Time=1.12 sec\n",
      " ARIMA(0,0,1)(1,0,1)[12]             : AIC=2490.079, Time=1.20 sec\n",
      " ARIMA(1,0,1)(1,0,1)[12]             : AIC=2491.198, Time=2.19 sec\n",
      "\n",
      "Best model:  ARIMA(0,0,0)(1,0,1)[12]          \n",
      "Total fit time: 58.591 seconds\n"
     ]
    }
   ],
   "source": [
    "model = pm.auto_arima(y_train, \n",
    "                      m=12,               # frequency of series                      \n",
    "                      seasonal=True,  # TRUE if seasonal series\n",
    "                      d=None,             # let model determine 'd'\n",
    "                      test='adf',         # use adftest to find optimal 'd'\n",
    "                      start_p=0, start_q=0, # minimum p and q\n",
    "                      max_p=50, max_q=50, # maximum p and q\n",
    "                      D=None,             # let model determine 'D'\n",
    "                      trace=True,\n",
    "                      error_action='ignore',  \n",
    "                      suppress_warnings=True, \n",
    "                      stepwise=True)"
   ]
  },
  {
   "cell_type": "code",
   "execution_count": 55,
   "metadata": {},
   "outputs": [
    {
     "name": "stdout",
     "output_type": "stream",
     "text": [
      "ARIMA training RMSE: 0.5687764579090353\n",
      "ARIMA test RMSE: 0.9379531957821646\n"
     ]
    }
   ],
   "source": [
    "y_train = data_diff['Diff'].iloc[:-30]\n",
    "y_test = data_diff['Diff'].iloc[-30:]\n",
    "\n",
    "model = ARIMA(y_train, order=(0, 0, 0))\n",
    "model_fit = model.fit()\n",
    "y_pred = model_fit.forecast(steps=len(y_test))\n",
    "\n",
    "arima_train_rmse = sqrt(mean_squared_error(y_train.values, model_fit.fittedvalues))\n",
    "arima_test_rmse = sqrt(mean_squared_error(y_test.values, y_pred))\n",
    "\n",
    "print(f'ARIMA training RMSE: {arima_train_rmse}')\n",
    "print(f'ARIMA test RMSE: {arima_test_rmse}')"
   ]
  },
  {
   "cell_type": "code",
   "execution_count": 56,
   "metadata": {},
   "outputs": [
    {
     "name": "stderr",
     "output_type": "stream",
     "text": [
      " This problem is unconstrained.\n"
     ]
    },
    {
     "name": "stdout",
     "output_type": "stream",
     "text": [
      "RUNNING THE L-BFGS-B CODE\n",
      "\n",
      "           * * *\n",
      "\n",
      "Machine precision = 2.220D-16\n",
      " N =            6     M =           10\n",
      "\n",
      "At X0         0 variables are exactly at the bounds\n",
      "\n",
      "At iterate    0    f=  4.10116D+00    |proj g|=  4.14817D-02\n",
      "\n",
      "At iterate    5    f=  8.54505D-01    |proj g|=  1.43889D-03\n",
      "\n",
      "           * * *\n",
      "\n",
      "Tit   = total number of iterations\n",
      "Tnf   = total number of function evaluations\n",
      "Tnint = total number of segments explored during Cauchy searches\n",
      "Skip  = number of BFGS updates skipped\n",
      "Nact  = number of active bounds at final generalized Cauchy point\n",
      "Projg = norm of the final projected gradient\n",
      "F     = final function value\n",
      "\n",
      "           * * *\n",
      "\n",
      "   N    Tit     Tnf  Tnint  Skip  Nact     Projg        F\n",
      "    6      7     22      1     0     0   6.372D-06   8.545D-01\n",
      "  F =  0.85450490908711152     \n",
      "\n",
      "CONVERGENCE: NORM_OF_PROJECTED_GRADIENT_<=_PGTOL            \n",
      "SARIMAX training RMSE: 0.5686821433704924\n",
      "SARIMAX test RMSE: 0.9321671957017459\n"
     ]
    }
   ],
   "source": [
    "from statsmodels.tsa.statespace.sarimax import SARIMAX\n",
    "\n",
    "X = data_diff[['Arrival', 'GDP', 'Stay Length', 'Expenditure', 'Actual']]\n",
    "y = data_diff['Diff']\n",
    "\n",
    "X_train = X.iloc[:-30,:]\n",
    "y_train = y.iloc[:-30]\n",
    "X_test = X.iloc[-30:,:]\n",
    "y_test = y.iloc[-30:]\n",
    "\n",
    "model = SARIMAX(y_train, exog=X_train, order=(0, 0, 0), seasonal_order=(0, 0, 0, 52))\n",
    "model_fit = model.fit()\n",
    "y_pred = model_fit.forecast(steps=len(y_test), exog=X_test)\n",
    "\n",
    "sarimax_train_rmse = sqrt(mean_squared_error(y_train.values, model_fit.fittedvalues))\n",
    "sarimax_test_rmse = sqrt(mean_squared_error(y_test.values, y_pred))\n",
    "\n",
    "print(f'SARIMAX training RMSE: {sarimax_train_rmse}')\n",
    "print(f'SARIMAX test RMSE: {sarimax_test_rmse}')"
   ]
  },
  {
   "cell_type": "code",
   "execution_count": 61,
   "metadata": {},
   "outputs": [
    {
     "name": "stdout",
     "output_type": "stream",
     "text": [
      "RUNNING THE L-BFGS-B CODE\n",
      "\n",
      "           * * *\n",
      "\n",
      "Machine precision = 2.220D-16\n",
      " N =            8     M =           10\n",
      "\n",
      "At X0         0 variables are exactly at the bounds\n",
      "\n",
      "At iterate    0    f=  8.54382D-01    |proj g|=  1.22237D-02\n"
     ]
    },
    {
     "name": "stderr",
     "output_type": "stream",
     "text": [
      " This problem is unconstrained.\n"
     ]
    },
    {
     "name": "stdout",
     "output_type": "stream",
     "text": [
      "\n",
      "At iterate    5    f=  8.54368D-01    |proj g|=  1.35890D-04\n",
      "\n",
      "At iterate   10    f=  8.54363D-01    |proj g|=  1.94569D-03\n",
      "\n",
      "At iterate   15    f=  8.53741D-01    |proj g|=  3.43154D-02\n",
      "\n",
      "At iterate   20    f=  8.52193D-01    |proj g|=  3.58003D-03\n",
      "\n",
      "At iterate   25    f=  8.52099D-01    |proj g|=  5.06134D-04\n",
      "\n",
      "           * * *\n",
      "\n",
      "Tit   = total number of iterations\n",
      "Tnf   = total number of function evaluations\n",
      "Tnint = total number of segments explored during Cauchy searches\n",
      "Skip  = number of BFGS updates skipped\n",
      "Nact  = number of active bounds at final generalized Cauchy point\n",
      "Projg = norm of the final projected gradient\n",
      "F     = final function value\n",
      "\n",
      "           * * *\n",
      "\n",
      "   N    Tit     Tnf  Tnint  Skip  Nact     Projg        F\n",
      "    8     29     38      1     0     0   6.763D-06   8.521D-01\n",
      "  F =  0.85209841313534673     \n",
      "\n",
      "CONVERGENCE: NORM_OF_PROJECTED_GRADIENT_<=_PGTOL            \n",
      "SARIMAX training RMSE: 0.5672991709787975\n",
      "SARIMAX test RMSE: 0.9358269273485442\n"
     ]
    }
   ],
   "source": [
    "from statsmodels.tsa.statespace.sarimax import SARIMAX\n",
    "\n",
    "X = data_diff[['Arrival', 'GDP', 'Stay Length', 'Expenditure', 'Actual']]\n",
    "y = data_diff['Diff']\n",
    "\n",
    "X_train = X.iloc[:-30,:]\n",
    "y_train = y.iloc[:-30]\n",
    "X_test = X.iloc[-30:,:]\n",
    "y_test = y.iloc[-30:]\n",
    "\n",
    "model = SARIMAX(y_train, exog=X_train, order=(0, 0, 0), seasonal_order=(1, 0, 1, 12))\n",
    "model_fit = model.fit()\n",
    "y_pred = model_fit.forecast(steps=len(y_test), exog=X_test)\n",
    "\n",
    "sarimax_train_rmse = sqrt(mean_squared_error(y_train.values, model_fit.fittedvalues))\n",
    "sarimax_test_rmse = sqrt(mean_squared_error(y_test.values, y_pred))\n",
    "\n",
    "print(f'SARIMAX training RMSE: {sarimax_train_rmse}')\n",
    "print(f'SARIMAX test RMSE: {sarimax_test_rmse}')"
   ]
  },
  {
   "cell_type": "code",
   "execution_count": 62,
   "metadata": {},
   "outputs": [
    {
     "name": "stderr",
     "output_type": "stream",
     "text": [
      " This problem is unconstrained.\n"
     ]
    },
    {
     "name": "stdout",
     "output_type": "stream",
     "text": [
      "RUNNING THE L-BFGS-B CODE\n",
      "\n",
      "           * * *\n",
      "\n",
      "Machine precision = 2.220D-16\n",
      " N =            8     M =           10\n",
      "\n",
      "At X0         0 variables are exactly at the bounds\n",
      "\n",
      "At iterate    0    f=  9.34151D-01    |proj g|=  5.99334D-01\n",
      "\n",
      "At iterate    5    f=  8.53527D-01    |proj g|=  1.88511D-03\n",
      "\n",
      "At iterate   10    f=  8.53524D-01    |proj g|=  2.67788D-04\n",
      "\n",
      "At iterate   15    f=  8.53524D-01    |proj g|=  9.30862D-05\n",
      "\n",
      "At iterate   20    f=  8.53523D-01    |proj g|=  8.22495D-04\n",
      "\n",
      "At iterate   25    f=  8.53522D-01    |proj g|=  8.26008D-05\n",
      "\n",
      "           * * *\n",
      "\n",
      "Tit   = total number of iterations\n",
      "Tnf   = total number of function evaluations\n",
      "Tnint = total number of segments explored during Cauchy searches\n",
      "Skip  = number of BFGS updates skipped\n",
      "Nact  = number of active bounds at final generalized Cauchy point\n",
      "Projg = norm of the final projected gradient\n",
      "F     = final function value\n",
      "\n",
      "           * * *\n",
      "\n",
      "   N    Tit     Tnf  Tnint  Skip  Nact     Projg        F\n",
      "    8     27     32      1     0     0   1.304D-05   8.535D-01\n",
      "  F =  0.85352169480748519     \n",
      "\n",
      "CONVERGENCE: REL_REDUCTION_OF_F_<=_FACTR*EPSMCH             \n",
      "SARIMAX training RMSE: 0.5680255473593254\n",
      "SARIMAX test RMSE: 0.9535741766611774\n"
     ]
    }
   ],
   "source": [
    "from statsmodels.tsa.statespace.sarimax import SARIMAX\n",
    "\n",
    "X = data_diff[['Arrival', 'GDP', 'Stay Length', 'Expenditure', 'Actual']]\n",
    "y = data_diff['Diff']\n",
    "\n",
    "X_train = X.iloc[:-30,:]\n",
    "y_train = y.iloc[:-30]\n",
    "X_test = X.iloc[-30:,:]\n",
    "y_test = y.iloc[-30:]\n",
    "\n",
    "model = SARIMAX(y_train, exog=X_train, order=(0, 0, 0), seasonal_order=(1, 0, 1, 365))\n",
    "model_fit = model.fit()\n",
    "y_pred = model_fit.forecast(steps=len(y_test), exog=X_test)\n",
    "\n",
    "sarimax_train_rmse = sqrt(mean_squared_error(y_train.values, model_fit.fittedvalues))\n",
    "sarimax_test_rmse = sqrt(mean_squared_error(y_test.values, y_pred))\n",
    "\n",
    "print(f'SARIMAX training RMSE: {sarimax_train_rmse}')\n",
    "print(f'SARIMAX test RMSE: {sarimax_test_rmse}')"
   ]
  }
 ],
 "metadata": {
  "kernelspec": {
   "display_name": "general",
   "language": "python",
   "name": "python3"
  },
  "language_info": {
   "codemirror_mode": {
    "name": "ipython",
    "version": 3
   },
   "file_extension": ".py",
   "mimetype": "text/x-python",
   "name": "python",
   "nbconvert_exporter": "python",
   "pygments_lexer": "ipython3",
   "version": "3.11.8"
  }
 },
 "nbformat": 4,
 "nbformat_minor": 2
}
